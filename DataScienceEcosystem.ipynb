{
 "cells": [
  {
   "cell_type": "code",
   "execution_count": null,
   "id": "307bd073-5c2c-4e00-9107-37292cbbc7a2",
   "metadata": {},
   "outputs": [],
   "source": [
    "# Data Sciense Tools and Ecosystemsabs"
   ]
  },
  {
   "cell_type": "markdown",
   "id": "43096d58-42d9-4b41-b0a4-780831aa6aa6",
   "metadata": {},
   "source": [
    "In this notebook, Data Science Tools and Ecosystems are summarized"
   ]
  },
  {
   "cell_type": "markdown",
   "id": "bea7605c-7230-4171-ba11-75f7a40b57bc",
   "metadata": {},
   "source": [
    "___Objectives___\n",
    "- learn about Popular Languages Data Scientists use\n",
    "-  Learn about Commonly used Data Science Libraries\n",
    "-  Learn about Data Science Tools"
   ]
  },
  {
   "cell_type": "markdown",
   "id": "23b5c5b9-86d4-4575-955e-2cf675cf9a3c",
   "metadata": {},
   "source": [
    "Some of the popular languages that Data Scientists use are:\n",
    "1. Phyton\n",
    "2. R\n",
    "3. SQL\n",
    "4. Java\n",
    "5. C++\n",
    "6. Julia\n",
    "7. JavaScript\n",
    "8. PHP\n"
   ]
  },
  {
   "cell_type": "markdown",
   "id": "23bf409a-d1d9-49d8-a49a-266d1657b21d",
   "metadata": {},
   "source": [
    "Some of the commonly used libraries used by Data Scientists include:\n",
    "1. Pandas\n",
    "2. Matplotlib\n",
    "3. NumPy\n",
    "4. Scikit\n"
   ]
  },
  {
   "cell_type": "markdown",
   "id": "5f401d86-d333-4283-8f9d-8efa8c0a9822",
   "metadata": {},
   "source": [
    "| Data Science Tools |\n",
    "| ------------------ |\n",
    "| Programming Tools |\n",
    "| Data Manipulation and Analysis Libraries |\n",
    "| Data Visualization Tools |\n",
    "| Machine Learning Libraries and Framework |\n"
   ]
  },
  {
   "cell_type": "code",
   "execution_count": 3,
   "id": "9702c8c3-d9cf-4a28-859d-d8045d17e227",
   "metadata": {},
   "outputs": [
    {
     "data": {
      "text/plain": [
       "17"
      ]
     },
     "execution_count": 3,
     "metadata": {},
     "output_type": "execute_result"
    }
   ],
   "source": [
    "\"Below are a few examples of evaluating arithmetic expressions in Python:\"\n",
    "\"This a simple arithmetic expression to mutiply then add integers\"\n",
    "(3*4)+5"
   ]
  },
  {
   "cell_type": "code",
   "execution_count": 5,
   "id": "bffd5b12-0631-4d6f-8855-5bfefe67912f",
   "metadata": {},
   "outputs": [
    {
     "data": {
      "text/plain": [
       "3.3333333333333335"
      ]
     },
     "execution_count": 5,
     "metadata": {},
     "output_type": "execute_result"
    }
   ],
   "source": [
    "\"This will convert 200 minutes to hours by diving by 60\"\n",
    "200/60"
   ]
  },
  {
   "cell_type": "markdown",
   "id": "b2a49413-87b1-4375-983b-7873c4d9e908",
   "metadata": {},
   "source": [
    "## ___Author___\n",
    "David"
   ]
  },
  {
   "cell_type": "code",
   "execution_count": null,
   "id": "cf1e20fe-50a4-42d0-9cbb-ae774957b090",
   "metadata": {},
   "outputs": [],
   "source": []
  },
  {
   "cell_type": "code",
   "execution_count": null,
   "id": "38f729a0-5a76-409b-9895-924a716565ba",
   "metadata": {},
   "outputs": [],
   "source": []
  }
 ],
 "metadata": {
  "kernelspec": {
   "display_name": "Python 3 (ipykernel)",
   "language": "python",
   "name": "python3"
  },
  "language_info": {
   "codemirror_mode": {
    "name": "ipython",
    "version": 3
   },
   "file_extension": ".py",
   "mimetype": "text/x-python",
   "name": "python",
   "nbconvert_exporter": "python",
   "pygments_lexer": "ipython3",
   "version": "3.12.8"
  }
 },
 "nbformat": 4,
 "nbformat_minor": 5
}
